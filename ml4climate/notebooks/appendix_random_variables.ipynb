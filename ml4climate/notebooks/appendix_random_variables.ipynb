{
 "cells": [
  {
   "cell_type": "markdown",
   "id": "5eb8c31b",
   "metadata": {
    "slideshow": {
     "slide_type": "slide"
    }
   },
   "source": [
    "# Appendix: A primer on random variables and probabilities"
   ]
  },
  {
   "cell_type": "markdown",
   "id": "3a485dc1",
   "metadata": {
    "slideshow": {
     "slide_type": "subslide"
    }
   },
   "source": [
    "<div class=\"alert alert-block alert-warning\">\n",
    "    <b>Prerequisites</b>\n",
    "    \n",
    "- Not much\n",
    "\n",
    "</div>"
   ]
  },
  {
   "cell_type": "markdown",
   "id": "8790b2ae",
   "metadata": {
    "slideshow": {
     "slide_type": "subslide"
    }
   },
   "source": [
    "<div class=\"alert alert-block alert-info\">\n",
    "    <b>Learning Outcomes</b>\n",
    "    \n",
    "- Intuition on random variable\n",
    "- **Non** learning outcome: correct mathematical framework\n",
    "\n",
    "</div>"
   ]
  },
  {
   "cell_type": "markdown",
   "id": "41676172",
   "metadata": {
    "slideshow": {
     "slide_type": "subslide"
    }
   },
   "source": [
    "In this notebook, we review important concepts about random variables. All measurements contain some form of uncertainty that can be attributed either to the measurement device or to random fluctuation of the field we are trying to measure. In order to formalize this uncertainty, we are going to use random variables and probability. Let us derive a couple of key results that we are going to use throughout this class.\n",
    "\n",
    "We propose two different approach in order to grasp most the framework: a heuristic approach with illustrations and lightweight math and more rigourous approach. You may want to look at one or the other (or idealy both) depending on your sensibility.\n",
    "\n",
    "We will use an example with a continuous variable (not only because I am tired of rolling dice but also because most of our application use continuous random variables)\n"
   ]
  },
  {
   "cell_type": "markdown",
   "id": "2ea727b6",
   "metadata": {
    "slideshow": {
     "slide_type": "subslide"
    }
   },
   "source": [
    "## Heuristic definitions"
   ]
  },
  {
   "cell_type": "markdown",
   "id": "2e8a06c2",
   "metadata": {
    "slideshow": {
     "slide_type": "subslide"
    }
   },
   "source": [
    "### Random variable\n",
    "\n",
    "A *random variable* is not really a variable: it is a function whose outcome is uncertain. Here, we use random variables as a mathematical framework to reproduce uncertainty. One specific outcome of that random variable is called a realization.\n",
    "\n",
    "> For instance, the *Temperature* $T$ is a random variable. And on January 1st 2021 I read on my thermomether $t=273$ K: that was a realization of that random variable.\n",
    "> - ***Question***: give a couple of other random variables and realizations\n",
    "\n",
    "We usually write random variables with capital letters ($T$) and a realization with low case letter ($t$)"
   ]
  },
  {
   "cell_type": "markdown",
   "id": "699e00fd",
   "metadata": {
    "slideshow": {
     "slide_type": "subslide"
    }
   },
   "source": [
    "### Sample space\n",
    "\n",
    "The *sample space* contains all possible outcomes of a random variable and is denoted with the letter $\\Omega$\n",
    "\n",
    "> If we continue with the idea that the temperature $T$ (expressed in Kelvin) is a random variable, $T$ can be any positive real number so the sample space is $\\mathbb R^+$\n",
    "> - ***Question***: What is the sample space of the random variables you picked?"
   ]
  },
  {
   "cell_type": "markdown",
   "id": "dcd29b99",
   "metadata": {
    "slideshow": {
     "slide_type": "subslide"
    }
   },
   "source": [
    "### Event space\n",
    "\n",
    "> We now consider a particular experiment like \"Measure the temperature in Paris in January\". You have to admit that it is very unlikely that you are ever going to measure a temperature of $T>500$ K.  Or if I reformulate: the probability that you measure a temperature $T>500$ K is very small. The statement: \"$T>500$ K\" is called an event that we can call $A$. For this experiment, there are as many event as you can think of: here is another one $200K<T<300$ K.\n",
    "> - ***Question***: Provide more events.\n",
    ">\n",
    "> Note that \"$T=200$ K\" is not an event: we'll get back to it in a minute.\n",
    "\n",
    "As illustrated above, an event $A$ is any subset of the entire sample space $\\Omega$. All possible events are gathered in an *event space* denoted with the letter $\\mathcal A$. Note that if an event $A$ is a subset of $\\Omega$, it is sometimes easier to think of an event as \"$x \\in A$\" instead of just $A$. These are just two different ways to write the same thing."
   ]
  },
  {
   "cell_type": "markdown",
   "id": "390c5313",
   "metadata": {
    "slideshow": {
     "slide_type": "subslide"
    }
   },
   "source": [
    "### Probability\n",
    "\n",
    "You can assign a probability $P$ to each event $A$, where probability is a number between 0 and 1. If the probability $P(A)$ is close to 1, it means that the event $A$ will likely occur and probability $P(A)$ close to 0 means that the event $A$ will certnainly not occur. \n",
    "\n",
    "> ***Question***: Estimate the probability of the events you chose in the context of a specific experiment (like measure the temperature somewhere at a given time of the year)."
   ]
  },
  {
   "cell_type": "markdown",
   "id": "badd6997",
   "metadata": {
    "slideshow": {
     "slide_type": "subslide"
    }
   },
   "source": [
    "### The probability space\n",
    "\n",
    "The *probability space* is the ensemble of three elements: the sample space, the event space and the probability: $(\\Omega, \\mathcal A, P)$"
   ]
  },
  {
   "cell_type": "markdown",
   "id": "c7c56751",
   "metadata": {
    "slideshow": {
     "slide_type": "subslide"
    }
   },
   "source": [
    "### Cumulative density function\n",
    "\n",
    "As we just saw, for each temperature $t$ there is a probability that the random variable $T$ takes values smaller than $t$: it is $P(T \\le t)$. Since we are going to use these kind of events (\"$T \\le t$\") a lot, we are coming up with a specific name for the probaility of all these events: we call it the *cumulative distribution function (cdf)* and write it\n",
    "\n",
    "\\begin{equation}\n",
    "F_T(t) = P(T \\le t)\\, ,\n",
    "\\end{equation}\n",
    "and it really does what it says: as $t$ tends to 0, the probability of observing a temperature below that threshold is also very close to zero whereas the probability of observing a temperature  below a very big value of $t$ is close to 1. The name cumulative comes from the fact that we are always trying to find temperature below a threshold. We plot the typical shape of a cdf for our random variable in the figure below."
   ]
  },
  {
   "cell_type": "code",
   "execution_count": 1,
   "id": "3c8c7ba8",
   "metadata": {
    "slideshow": {
     "slide_type": "subslide"
    }
   },
   "outputs": [],
   "source": [
    "import numpy as np\n",
    "import matplotlib.pyplot as plt"
   ]
  },
  {
   "cell_type": "code",
   "execution_count": 2,
   "id": "9f2c4677",
   "metadata": {
    "slideshow": {
     "slide_type": "subslide"
    }
   },
   "outputs": [
    {
     "data": {
      "image/png": "[encoded data removed]",
      "text/plain": [
       "<Figure size 640x480 with 1 Axes>"
      ]
     },
     "metadata": {},
     "output_type": "display_data"
    }
   ],
   "source": [
    "def sigmoid(x):                                        \n",
    "    return 1 / (1 + np.exp(-x))\n",
    "\n",
    "x = np.linspace(-10,10,200)\n",
    "plt.plot(x+280,sigmoid(0.5*x), label=r'$F_T(t)$')\n",
    "plt.xlabel('t')\n",
    "plt.xticks(range(270,291,5))\n",
    "plt.legend()\n",
    "plt.grid()"
   ]
  },
  {
   "cell_type": "markdown",
   "id": "68ddf2f4",
   "metadata": {
    "slideshow": {
     "slide_type": "subslide"
    }
   },
   "source": [
    "> ***Question***\n",
    "> - In the figure, can you estimate visually $F_T(280)$, $F_T(275)$, $F_T(290)$ and recall what it means?\n",
    "\n",
    "We call the median temperature $t_m$ such that $F_T(t_m) = 0.5$\n",
    "\n",
    "> ***Question***\n",
    "> - What is the median temperature in the figure above? Can you rephrase the definition of the median?"
   ]
  },
  {
   "cell_type": "markdown",
   "id": "c555b0c3",
   "metadata": {
    "slideshow": {
     "slide_type": "subslide"
    }
   },
   "source": [
    "The way the cdf grows between 0 and 1 depends on the specific experiment we are considering and so it depends on the underlying probability to observe such or such event.\n",
    "> ***Question***\n",
    "> - The cdf is never decreasing. Can you see why? \n",
    "\n",
    "Let's show it"
   ]
  },
  {
   "cell_type": "markdown",
   "id": "0a53f19f",
   "metadata": {
    "slideshow": {
     "slide_type": "subslide"
    }
   },
   "source": [
    "### Introduction to probability density function\n",
    "\n",
    "The cdf was designed to visualize the events \"$T\\le t$\". But what about other events like \"$T > t$\". These are relatively easy to visualize because\n",
    "\n",
    "\\begin{equation}\n",
    "P(T > t) = 1 - P(T\\le t)\n",
    "\\end{equation}\n",
    "We have this result because the two events are mutually exclusive (you can only observe one or the other) and their union covers all possible obervations of temperature. In fact if two events $A$ and $B$ are mutually exclusive, then their union is the sum of their probabilities:\n",
    "\n",
    "\\begin{equation}\n",
    "P(A\\cup B) = P(A) + P(B)\\, ,\n",
    "\\end{equation}\n",
    "where $A\\cup B$ means \"observe either $A$ or $B$\"\n",
    "\n",
    "> ***Question***\n",
    "> - With this formula, can you show that\n",
    ">\\begin{equation}\n",
    "P(t_1 < T \\le t_2) = P(T \\le t_2) - P(T \\le t_1)\\, ,\n",
    "\\end{equation}\n",
    "> \n",
    "> *Be careful because $A\\cup B$ is probably not what do you think it is in this case: check the signs...*\n",
    "> - You now have the proof that the cdf never decreases. Do you see why?"
   ]
  },
  {
   "cell_type": "markdown",
   "id": "8b095f52",
   "metadata": {
    "slideshow": {
     "slide_type": "subslide"
    }
   },
   "source": [
    "### Is \"$T=300$ K\" an event?\n",
    "\n",
    "...well not really: it is impossible to measure $T = 300.000000(etc)$ with as many zeros as you wish (to get an infinite precision), so the probability of that \"event\" is zero! (It is like asking: \"what if the probability of rolling a die and get 3.5\")\n",
    "\n",
    "you can see it as\n",
    "\n",
    "\\begin{align}\n",
    "&\\lim_{\\Delta t \\rightarrow 0}P(t < T \\le t+\\Delta t)\\\\\n",
    "=& \\lim_{\\Delta t \\rightarrow 0}P(t \\le T) - P(t+\\Delta t \\le T)\\\\\n",
    "=& P(t \\le T) - P(t \\le T)\\\\\n",
    "=& 0\\, ,\n",
    "\\end{align}\n",
    "where we used the fact that probability is continuous to stick the $\\lim$ inside the probability."
   ]
  },
  {
   "cell_type": "markdown",
   "id": "e7f3ca6b",
   "metadata": {
    "slideshow": {
     "slide_type": "subslide"
    }
   },
   "source": [
    "### Probability density function\n",
    "\n",
    "Ok so we know that \"$T=t$\" is not an event but we still would like to have a feel for the probability to measure a temperature close to $t$. We can do that with \n",
    "\n",
    "\\begin{equation}\n",
    "P(t -0.5\\Delta t)< T \\le P(t+0.5\\Delta t)\n",
    "\\end{equation}\n",
    "\n",
    "and adjust $\\Delta t$ to the precision we wish to achieve. So, we have\n",
    "\n",
    "\\begin{equation}\n",
    "P(t -0.5\\Delta t< T \\le t + 0.5\\Delta t) = F_T(t+0.5\\Delta t) - F_T(t-0.5\\Delta t) \n",
    "\\end{equation}\n",
    "\n",
    "In order to not have the same issue as above as $\\Delta t$ tends to zero, we need to divide that expression by $\\Delta t$ and we end up with a probability per \"precision interval\". As $\\Delta t$ tends to zero, we recover the familiar expression of the derivative in the right hand side.\n",
    "\n",
    "\\begin{equation}\n",
    "\\frac{P(t -0.5\\Delta t< T \\le t + 0.5\\Delta t)}{\\Delta t} = \\frac{F_T(t+0.5\\Delta t) - F_T(t-0.5\\Delta t)}{\\Delta t}\n",
    "\\end{equation}\n",
    "\n",
    "We call the left hand side the \"probability per precision interval\". In the limit $\\Delta t \\rightarrow 0$, this converges to the *probability density function (pdf)* which is formally\n",
    "\n",
    "\\begin{equation}\n",
    "f(t) = \\frac{d}{dt}F_T(t) \n",
    "\\end{equation}"
   ]
  },
  {
   "cell_type": "markdown",
   "id": "e1128a8f",
   "metadata": {
    "slideshow": {
     "slide_type": "subslide"
    }
   },
   "source": [
    "and of course, we recover\n",
    "\\begin{equation}\n",
    "P(t < T \\le t + \\Delta t) = \\int_t^{t+\\Delta t} f(t) dt = F_T(t+\\Delta t) - F_T(t)\n",
    "\\end{equation}\n",
    "\n",
    "So the probabilities of these events \"$t_0 < T \\le t_1 $\" will be given by the integral of the pdf between $t_0$ and $t_1$ which is relatively easy to visualize. A naive yet correct way to estimate the pdf from a data set is to plot the binned histogram of that data set. We plot below the classical shape of the pdf for the gaussian distribution that we are going to review after."
   ]
  },
  {
   "cell_type": "code",
   "execution_count": 3,
   "id": "40e48338",
   "metadata": {
    "slideshow": {
     "slide_type": "subslide"
    }
   },
   "outputs": [
    {
     "data": {
      "image/png": "[encoded data removed]",
      "text/plain": [
       "<Figure size 640x480 with 1 Axes>"
      ]
     },
     "metadata": {},
     "output_type": "display_data"
    }
   ],
   "source": [
    "# this is not the integral of the sigmoid. Just here for illustration\n",
    "def gaussian(x, mu, sigma):\n",
    "  return 1/(np.sqrt(2*np.pi)*sigma)*np.exp(-((x - mu)/sigma)**2/2)\n",
    "\n",
    "x = np.linspace(-10,10,200)\n",
    "plt.plot(x+280,gaussian(x,0,3), label=r'$f(t)$')\n",
    "plt.xlabel('t')\n",
    "plt.xticks(range(270,291,5))\n",
    "plt.legend()\n",
    "plt.grid()"
   ]
  },
  {
   "cell_type": "markdown",
   "id": "85b19cb3",
   "metadata": {
    "slideshow": {
     "slide_type": "subslide"
    }
   },
   "source": [
    "> ***Questions***\n",
    "> - Based on the properties of $F_T(t)$ that you already know, can you show that  \n",
    ">     - $f(t) \\ge 0$ for all $t$\n",
    ">     - $\\int_\\Omega f(t) dt = 1$\n",
    "> - Is it possible that $f(t)>1$ for some value of $t$?"
   ]
  },
  {
   "cell_type": "markdown",
   "id": "943148f4",
   "metadata": {
    "slideshow": {
     "slide_type": "subslide"
    }
   },
   "source": [
    "## Percentile of a distribution\n",
    "\n",
    "The median correspond to the point $t_m$ such that half the area under the density curve is to the left of $t_m$ and half is to the right of $t_m$ (remember that $F_T(t_m) = 0.5$). The 25th percentile is called the lower \n",
    "quartile and the 75th percentile is called the upper quartile. We can use boxplot to quickly visualize the main properties of a distribution as illustrated in the figure below.\n",
    "\n",
    "<img alt=\"Boxplot\" width=400, src=\"images/Boxplot_vs_PDF.svg.png\">\n",
    "From Wikipedia"
   ]
  },
  {
   "cell_type": "markdown",
   "id": "6da24ace",
   "metadata": {
    "slideshow": {
     "slide_type": "subslide"
    }
   },
   "source": [
    "## Mean\n",
    "\n",
    "The mean $\\mu$ of a random variable is defined as\n",
    "\n",
    "\\begin{equation}\n",
    "\\mu = \\int_\\Omega t f(t) dt\n",
    "\\end{equation}\n",
    "\n",
    "and correspond to the sum all possible values of $t$ weighted by their probability of occurence."
   ]
  },
  {
   "cell_type": "markdown",
   "id": "abbe105a",
   "metadata": {
    "slideshow": {
     "slide_type": "subslide"
    }
   },
   "source": [
    "## Expected value\n",
    "\n",
    "Because we use this type of integral a lot (weighted average), we define the *expected value* $E(\\cdot)$:\n",
    "\n",
    "\\begin{equation}\n",
    "E (g(t)) = \\int_\\Omega g(t)f(t) dt\n",
    "\\end{equation}\n",
    "\n",
    "and so we have $\\mu = E(t)$\n",
    "\n",
    "Remember that expectation is linear operator."
   ]
  },
  {
   "cell_type": "markdown",
   "id": "f87d06d1",
   "metadata": {
    "slideshow": {
     "slide_type": "subslide"
    }
   },
   "source": [
    "> ***Question***\n",
    "> - Can you show that $E(aX + b) = a E(X) + b$ "
   ]
  },
  {
   "cell_type": "markdown",
   "id": "cec28d33",
   "metadata": {
    "slideshow": {
     "slide_type": "subslide"
    }
   },
   "source": [
    "## Variance\n",
    "\n",
    "The variance $\\sigma^2$ measures the spread of the random variable and is the expected value of the square of the distance to the mean:\n",
    "\n",
    "\\begin{equation}\n",
    "\\sigma^2 = E[(t-\\mu)^2]\n",
    "\\end{equation}\n",
    "\n",
    "It is sometimes noted as $V(t) = \\sigma^2$"
   ]
  },
  {
   "cell_type": "markdown",
   "id": "dc6b652f",
   "metadata": {
    "slideshow": {
     "slide_type": "subslide"
    }
   },
   "source": [
    "> ***Question***\n",
    "> - Show that $\\sigma^2 = E[t^2] - [E(t)]^2$\n",
    "> - If $T$ is a random variable with variance $\\sigma^2$. Show that $V(aT+b) = a^2 \\sigma^2$.\n",
    ">\n",
    "> You may need to define a new random variable $X = aT+b$"
   ]
  },
  {
   "cell_type": "markdown",
   "id": "55f38d33",
   "metadata": {
    "slideshow": {
     "slide_type": "subslide"
    }
   },
   "source": [
    "## The normal distribution\n",
    "\n",
    "\n",
    "The *normal distribution* is probably the most well known distribution. It corresponds to the bell-shape curve that we plotted above. It is a very good approximation for the distribution of many process in nature. The exact expression for the normal distribution of mean $\\mu$ and variance $\\sigma^2$ is\n",
    "\n",
    "\\begin{equation}\n",
    "f(x)={\\frac {1}{\\sigma {\\sqrt {2\\pi }}}}e^{-{\\frac {1}{2}}\\left({\\frac {x-\\mu }{\\sigma }}\\right)^{2}}\n",
    "\\end{equation}\n",
    "\n",
    "and where the renormalization pre-factor is needed to ensure that the integral over $\\mathbb R$ is 1.\n",
    "\n",
    "Normal distribution is often write as \n",
    "\n",
    "\\begin{equation}\n",
    "\\mathcal {N}(\\mu ,\\sigma^2)\n",
    "\\end{equation}"
   ]
  },
  {
   "cell_type": "markdown",
   "id": "bd317d1d",
   "metadata": {
    "slideshow": {
     "slide_type": "subslide"
    }
   },
   "source": [
    "If the random variable $T$ follows a normal distribution: $T\\sim\\mathcal {N}(\\mu ,\\sigma^2)$, we have\n",
    "\n",
    "\\begin{equation}\n",
    "P(\\mu -2\\sigma) < T \\le P(\\mu + 2\\sigma) \\simeq 0.95\n",
    "\\end{equation}\n",
    "\n",
    "which means that 95% of the realizations of $T$ are in the interval $[\\mu -2\\sigma, \\mu + 2\\sigma]$ (look again at the plot in the section [\"Percentile of a distribution\"](#Percentile-of-a-distribution)). This will be very useful when we will try to compute confidence intervals."
   ]
  },
  {
   "cell_type": "markdown",
   "id": "e2f2d2b4",
   "metadata": {
    "slideshow": {
     "slide_type": "subslide"
    }
   },
   "source": [
    "If $X$ and $Y$ are two independent normal random variables, with means $\\mu_X$ and $\\mu_Y$ and variance  $\\sigma_X^2$ and  $\\sigma_Y^2$, then their sum $X + Y$ will also be normally distributed with mean  $\\mu_X + \\mu_Y$ and variance $\\sigma_X^2+\\sigma_Y^{2}$ ([Proof](https://en.wikipedia.org/wiki/Sum_of_normally_distributed_random_variables))."
   ]
  },
  {
   "cell_type": "markdown",
   "id": "a3d5511b",
   "metadata": {
    "slideshow": {
     "slide_type": "subslide"
    }
   },
   "source": [
    "### The standard normal distribution\n",
    "\n",
    "The *standard normal distribution* is  $\\mathcal {N}(\\mu = 0, \\sigma^2 = 1$)\n",
    "\n",
    "> ***Question***\n",
    "> - If $T\\sim\\mathcal {N}(\\mu ,\\sigma^2)$ and $X\\sim\\mathcal {N}(0 ,1)$. Can you express $T$ as a function of $X$?"
   ]
  },
  {
   "cell_type": "markdown",
   "id": "4ab0f7fd",
   "metadata": {
    "slideshow": {
     "slide_type": "slide"
    }
   },
   "source": [
    "## Example: Regional surface temperature in France"
   ]
  },
  {
   "cell_type": "code",
   "execution_count": 4,
   "id": "98874095",
   "metadata": {
    "slideshow": {
     "slide_type": "subslide"
    }
   },
   "outputs": [],
   "source": [
    "# Import modules\n",
    "from pathlib import Path\n",
    "import numpy as np\n",
    "import pandas as pd\n",
    "import matplotlib.pyplot as plt\n",
    "\n",
    "# Set data directory\n",
    "data_dir = Path('data')\n",
    "\n",
    "# Set keyword arguments for pd.read_csv\n",
    "kwargs_read_csv = dict(header=0, index_col=0, parse_dates=True)\n",
    "\n",
    "# Set first and last years\n",
    "FIRST_YEAR = 2014\n",
    "LAST_YEAR = 2021\n",
    "\n",
    "# Define file path\n",
    "filename = 'surface_temperature_merra2_{}-{}.csv'.format(\n",
    "    FIRST_YEAR, LAST_YEAR)\n",
    "filepath = Path(data_dir, filename)\n",
    "\n",
    "# Read hourly temperature data averaged over each region\n",
    "df_temp = pd.read_csv(filepath, **kwargs_read_csv).resample('D').mean()\n",
    "temp_lim = [-5, 30]\n",
    "label_temp = 'Temperature (°C)'"
   ]
  },
  {
   "cell_type": "code",
   "execution_count": 5,
   "id": "796c89fd",
   "metadata": {
    "slideshow": {
     "slide_type": "subslide"
    }
   },
   "outputs": [],
   "source": [
    "def plot_temp(region_name=df_temp.columns[0], year=FIRST_YEAR):\n",
    "    df = df_temp[[region_name]].loc[str(year)]\n",
    "    df.columns = [label_temp]\n",
    "    nt = df.shape[0]\n",
    "    std = float(df.std(0).iloc[0])\n",
    "    mean = pd.Series(df[label_temp].mean(), index=df.index)\n",
    "    df_std = pd.DataFrame(\n",
    "        {'low': mean - std, 'high': mean + std}, index=df.index)\n",
    "    cdf = pd.DataFrame(index=df.sort_values(by=label_temp).values[:, 0],\n",
    "                       data=(np.arange(nt)[:, None] + 1) / nt)\n",
    "    cdf.index.name = label_temp\n",
    "    cdf.columns = ['Probability']\n",
    "\n",
    "    fig, axes = plt.subplots(nrows=1, ncols=3)\n",
    "    fig.set_figwidth(15)\n",
    "\n",
    "    # time series\n",
    "    pts = df.plot(ax=axes[0], ylim=temp_lim)\n",
    "    pts.hlines(df[label_temp].mean(), xmin=df.index[0], xmax=df.index[-1], linestyles='dashed')\n",
    "    pts.fill_between(df_std.index.values, df_std.low, df_std.high, alpha=.2)\n",
    "    pts.title.set_text('Time series, Mean, ± 1 STD')\n",
    "\n",
    "    # cdf plot\n",
    "    pcdf = cdf.plot(ax=axes[1], xlim=temp_lim, ylim=[0, 1])\n",
    "    pcdf.vlines(df[label_temp].mean(), ymin=0, ymax=1, linestyles='dashed')\n",
    "    pcdf.title.set_text('Cumulative Distrib. Func.')\n",
    "\n",
    "    # pdf plot\n",
    "    pkde = df.plot.kde(xlim=temp_lim, ax=axes[2])\n",
    "    ylim3 = pkde.get_ylim()\n",
    "    pkde.vlines(df[label_temp].mean(), ymin=0, ymax=ylim3[1], linestyles='dashed')\n",
    "    pkde.set_ylim([0, ylim3[1]])\n",
    "    pkde.title.set_text('Probability Distrib. Func.')"
   ]
  },
  {
   "cell_type": "code",
   "execution_count": 6,
   "id": "de18ea7f",
   "metadata": {
    "slideshow": {
     "slide_type": "subslide"
    }
   },
   "outputs": [
    {
     "data": {
      "application/vnd.jupyter.widget-view+json": {
       "model_id": "ce571e2a8abf44cb90a532eebfea7b1b",
       "version_major": 2,
       "version_minor": 0
      },
      "text/plain": [
       "interactive(children=(Dropdown(description='region_name', options=('Grand Est', 'Nouvelle-Aquitaine', 'Auvergn…"
      ]
     },
     "metadata": {},
     "output_type": "display_data"
    },
    {
     "data": {
      "text/plain": [
       "<function __main__.plot_temp(region_name='Grand Est', year=2014)>"
      ]
     },
     "execution_count": 6,
     "metadata": {},
     "output_type": "execute_result"
    }
   ],
   "source": [
    "# Show\n",
    "from ipywidgets import interact\n",
    "interact(plot_temp,region_name=df_temp.columns, year=range(FIRST_YEAR, LAST_YEAR))"
   ]
  },
  {
   "cell_type": "markdown",
   "id": "6745304a",
   "metadata": {
    "slideshow": {
     "slide_type": "subslide"
    }
   },
   "source": [
    "## Collection of random variable\n",
    "\n",
    "> Suppose now that we want to measure temperature *and* wind magnitude at the same time. Wind magnitude $U$ is a random variable just like temperature. However, it has a completely different *probability space*: different sample space, different event space and different probabilities. Yet we can still ask ourselves \"What is the probability of observing a Temperature lower than 280K and a wind magnitude less than 10 m/s\". This is measured by the joint probability $P(T \\le 280K, U \\le 10m/s)$\n",
    "\n",
    "\n",
    "We can define a joint cumulative distribution function that takes now two variables as an input:\n",
    "\n",
    "\\begin{equation}\n",
    "F_{T,U}(t,u)=P (T\\leq t,U\\leq u)\n",
    "\\end{equation}\n",
    "\n",
    "and of course we can generalize this to as many variables as we want."
   ]
  },
  {
   "cell_type": "markdown",
   "id": "a3a39e69",
   "metadata": {
    "slideshow": {
     "slide_type": "subslide"
    }
   },
   "source": [
    "As before, we define $f(t,u)$, the joint pdf of temperature and velocity as:\n",
    "\n",
    "\\begin{equation}\n",
    "f(t,u)=\\frac{\\partial}{\\partial u} \\frac{\\partial}{\\partial t } F_{T,U}(t,u)\n",
    "\\end{equation}\n",
    "\n",
    "We can also express the cumulative density function as the integral of a multivariate pdf\n",
    "\n",
    "\\begin{equation}\n",
    "F_{T,U}(t,u)=\\int_{-\\infty}^t \\int_{-\\infty}^u f(t',u') dt'du'\\, .\n",
    "\\end{equation}"
   ]
  },
  {
   "cell_type": "markdown",
   "id": "fbc65084",
   "metadata": {
    "slideshow": {
     "slide_type": "subslide"
    }
   },
   "source": [
    "The joint pdf corresponds to the probability (density) of observing at the same time $T=t$ and $U=u$. It is a function of 2 variables and can be represented with contour lines in the $(t,u)$ plane."
   ]
  },
  {
   "cell_type": "markdown",
   "id": "86bc0371",
   "metadata": {
    "slideshow": {
     "slide_type": "subslide"
    }
   },
   "source": [
    "If we integrate $f(t,u)$ over all possible events in $U$, we recover the pdf of temperature, also called the marginal density\n",
    "\n",
    "\\begin{equation}\n",
    "f(t)=\\int_{\\Omega_u} f(t,u) du\n",
    "\\end{equation}\n"
   ]
  },
  {
   "cell_type": "markdown",
   "id": "ebd90d61",
   "metadata": {
    "slideshow": {
     "slide_type": "subslide"
    }
   },
   "source": [
    "We also express the total pdf as the product of the conditional pdf of observing $T=t$ given $U=u$ times the marginal pdf of $U$\n",
    "\n",
    "\\begin{equation}\n",
    "f(t, u) =  f(t | u) f(u)\n",
    "\\end{equation}"
   ]
  },
  {
   "cell_type": "markdown",
   "id": "ee8a9995",
   "metadata": {
    "slideshow": {
     "slide_type": "subslide"
    }
   },
   "source": [
    "## Is $f(t|u)$ a function of $t$ or $u$ or both?\n",
    "\n",
    "A priori $f(t|u)$ is a function of both. However, we often use is either with fixed $u$ or fixed $t$.\n",
    "\n",
    "- fixed $u$: it is a conditional pdf\n",
    "- fixed $t$: it is a likelihood\n"
   ]
  },
  {
   "cell_type": "markdown",
   "id": "1d437fe5",
   "metadata": {
    "slideshow": {
     "slide_type": "subslide"
    }
   },
   "source": [
    "### Bayes' Theorem\n",
    "\n",
    "In the expression above, we can interchange the role of $t$ and $u$\n",
    "\n",
    "\\begin{equation}\n",
    "f(t, u) =  f(u|t) f(t)\n",
    "\\end{equation}\n",
    "\n",
    "If we equate these two equation and reorganize the terms we get\n",
    "\n",
    "\\begin{equation}\n",
    "f(u|t) f(u) = f(t|u) f(t)\n",
    "\\end{equation}\n",
    "\n",
    "More on Bayes' Theorem when we will do classification."
   ]
  },
  {
   "cell_type": "markdown",
   "id": "f3793be3",
   "metadata": {
    "slideshow": {
     "slide_type": "subslide"
    }
   },
   "source": [
    "### Independent variables\n",
    "\n",
    "If $T$ and $U$ are independent then $F_{T, U}(t, u) = F_T(t)F_U(u)$.\n",
    "\n",
    "> This would require that the wind and the temperature are completely independent from each other"
   ]
  },
  {
   "cell_type": "markdown",
   "id": "95f19d31",
   "metadata": {
    "slideshow": {
     "slide_type": "subslide"
    }
   },
   "source": [
    "## Sample vs Population\n",
    "\n",
    "In machine learning problems, we only have access to a small amount of data compared to all possible data data we could have. We call this small data set a *sample* data and the maximum set of data the *population* data. This terminology refers to the idea of conducting a poll to predict the outcome of an election: you cannot ask every single voter which candidate he is going to pick. So you select a representative *sample* and conduct your poll. If you do your job well, you can then infer the result of the election for the entire *population* "
   ]
  },
  {
   "cell_type": "markdown",
   "id": "833af93e",
   "metadata": {
    "slideshow": {
     "slide_type": "subslide"
    }
   },
   "source": [
    "Let $(x_i, y_i), i = 1, \\ldots, N$ be a sample drawn from the joint distribution of the random variables $X$ and $Y$.\n",
    "Then we have the following unbiased estimates:\n",
    "\n",
    "- Sample mean: $\\bar{x} = \\sum_{i = 1}^N x_i$\n",
    "- Sample variance: $s_X^2 = \\frac{1}{N - 1} \\sum_{i = 1}^N \\left(x_i - \\bar{x}\\right)^2$\n",
    "- Sample covariance: $q_{X,Y} = \\frac{1}{N - 1} \\sum_{i = 1}^N \\left(x_i - \\bar{x}\\right) \\left(y_i - \\bar{y}\\right)$"
   ]
  },
  {
   "cell_type": "markdown",
   "id": "5e186998",
   "metadata": {
    "slideshow": {
     "slide_type": "slide"
    }
   },
   "source": [
    "***\n",
    "## Credit\n",
    "\n",
    "[//]: # \"This notebook is part of [E4C Interdisciplinary Center - Education](https://gitlab.in2p3.fr/energy4climate/public/education).\"\n",
    "Contributors include Bruno Deremble and Alexis Tantet.\n",
    "\n",
    "<br>\n",
    "\n",
    "<div style=\"display: flex; height: 70px\">\n",
    "    \n",
    "<img alt=\"Logo LMD\" src=\"images/logos/logo_lmd.jpg\" style=\"display: inline-block\"/>\n",
    "\n",
    "<img alt=\"Logo IPSL\" src=\"images/logos/logo_ipsl.png\" style=\"display: inline-block\"/>\n",
    "\n",
    "<img alt=\"Logo E4C\" src=\"images/logos/logo_e4c_final.png\" style=\"display: inline-block\"/>\n",
    "\n",
    "<img alt=\"Logo EP\" src=\"images/logos/logo_ep.png\" style=\"display: inline-block\"/>\n",
    "\n",
    "<img alt=\"Logo SU\" src=\"images/logos/logo_su.png\" style=\"display: inline-block\"/>\n",
    "\n",
    "<img alt=\"Logo ENS\" src=\"images/logos/logo_ens.jpg\" style=\"display: inline-block\"/>\n",
    "\n",
    "<img alt=\"Logo CNRS\" src=\"images/logos/logo_cnrs.png\" style=\"display: inline-block\"/>\n",
    "    \n",
    "</div>\n",
    "\n",
    "<hr>\n",
    "\n",
    "<div style=\"display: flex\">\n",
    "    <a rel=\"license\" href=\"http://creativecommons.org/licenses/by-sa/4.0/\"><img alt=\"Creative Commons License\" style=\"border-width:0; margin-right: 10px\" src=\"https://i.creativecommons.org/l/by-sa/4.0/88x31.png\" /></a>\n",
    "    <br>This work is licensed under a &nbsp; <a rel=\"license\" href=\"http://creativecommons.org/licenses/by-sa/4.0/\">Creative Commons Attribution-ShareAlike 4.0 International License</a>.\n",
    "</div>"
   ]
  }
 ],
 "metadata": {
  "celltoolbar": "Slideshow",
  "kernelspec": {
   "display_name": "Python 3 (ipykernel)",
   "language": "python",
   "name": "python3"
  },
  "language_info": {
   "codemirror_mode": {
    "name": "ipython",
    "version": 3
   },
   "file_extension": ".py",
   "mimetype": "text/x-python",
   "name": "python",
   "nbconvert_exporter": "python",
   "pygments_lexer": "ipython3",
   "version": "3.13.7"
  },
  "latex_envs": {
   "LaTeX_envs_menu_present": true,
   "autoclose": true,
   "autocomplete": false,
   "bibliofile": "biblio.bib",
   "cite_by": "apalike",
   "current_citInitial": 1,
   "eqLabelWithNumbers": true,
   "eqNumInitial": 1,
   "hotkeys": {
    "equation": "Ctrl-E",
    "itemize": "Ctrl-I"
   },
   "labels_anchors": false,
   "latex_user_defs": false,
   "report_style_numbering": false,
   "user_envs_cfg": false
  },
  "toc": {
   "base_numbering": 1,
   "nav_menu": {},
   "number_sections": true,
   "sideBar": true,
   "skip_h1_title": false,
   "title_cell": "Table of Contents",
   "title_sidebar": "Contents",
   "toc_cell": false,
   "toc_position": {},
   "toc_section_display": true,
   "toc_window_display": false
  },
  "varInspector": {
   "cols": {
    "lenName": 16,
    "lenType": 16,
    "lenVar": 40
   },
   "kernels_config": {
    "python": {
     "delete_cmd_postfix": "",
     "delete_cmd_prefix": "del ",
     "library": "var_list.py",
     "varRefreshCmd": "print(var_dic_list())"
    },
    "r": {
     "delete_cmd_postfix": ") ",
     "delete_cmd_prefix": "rm(",
     "library": "var_list.r",
     "varRefreshCmd": "cat(var_dic_list()) "
    }
   },
   "types_to_exclude": [
    "module",
    "function",
    "builtin_function_or_method",
    "instance",
    "_Feature"
   ],
   "window_display": false
  }
 },
 "nbformat": 4,
 "nbformat_minor": 5
}
