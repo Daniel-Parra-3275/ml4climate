{
 "cells": [
  {
   "cell_type": "markdown",
   "id": "9bc1a928",
   "metadata": {},
   "source": [
    "# Tutorial: Supervised Learning Problem and Least Squares\n",
    "\n",
    "[![Binder](https://mybinder.org/badge_logo.svg)](https://mybinder.org/v2/git/https%3A%2F%2Fgitlab.in2p3.fr%2Fenergy4climate%2Fpublic%2Feducation%2Fmachine_learning_for_climate_and_energy/master?filepath=book%2Fnotebooks%2F02_tutorial_supervised_learning_problem_ols.ipynb)\n",
    "\n",
    "Tutorial to the classes [Supervised Learning Problem and Least Squares](02_supervised_learning_problem.ipynb) and [Ordinary Least Squares](03_ordinary_least_squares.ipynb)."
   ]
  },
  {
   "cell_type": "markdown",
   "id": "a9e82f9b",
   "metadata": {},
   "source": [
    "<div class=\"alert alert-block alert-info\">\n",
    "    <b>Tutorial Objectives</b>\n",
    "    \n",
    "- Read, plot and analyze train data\n",
    "- Use supervised learning to predict the regional electricity consumption of France in response electric heating based on temperature data\n",
    "- Test the linear least squares (OLS) model\n",
    "- Evaluate their performance by estimating their Expected Prediction Errors (EPE) using test data\n",
    "</div>"
   ]
  },
  {
   "cell_type": "markdown",
   "id": "083fce0a",
   "metadata": {},
   "source": [
    "## Dataset presentation\n",
    "\n",
    "- Input:\n",
    "  - 2m-temperature\n",
    "    - Domain: Metropolitan France\n",
    "    - Spatial resolution: regional average\n",
    "    - Time resolution: hourly\n",
    "    - Period: 2014-2021\n",
    "    - Units: °C\n",
    "    - Source: [MERRA-2 reanalysis](https://gmao.gsfc.nasa.gov/reanalysis/MERRA-2/)\n",
    "- Target:\n",
    "  - Electricity demand\n",
    "    - Domain: Metropolitan France\n",
    "    - Spatial resolution: regional sum\n",
    "    - Time resolution: hourly\n",
    "    - Period: 2014-2021\n",
    "    - Units: MWh\n",
    "    - Source: [RTE](https://opendata.reseaux-energies.fr/)"
   ]
  },
  {
   "cell_type": "markdown",
   "id": "2ea67a13",
   "metadata": {},
   "source": [
    "## Reading and pre-analysis of the input and output data"
   ]
  },
  {
   "cell_type": "markdown",
   "id": "c36e8f5c",
   "metadata": {},
   "source": [
    "### Import data-analysis and plot modules and define paths"
   ]
  },
  {
   "cell_type": "code",
   "execution_count": 1,
   "id": "f665256a",
   "metadata": {},
   "outputs": [],
   "source": [
    "# Path manipulation module\n",
    "from pathlib import Path\n",
    "# Numerical analysis module\n",
    "import numpy as np\n",
    "# Formatted numerical analysis module\n",
    "import pandas as pd\n",
    "# Plot module\n",
    "import matplotlib.pyplot as plt\n",
    "# Default colors\n",
    "RC_COLORS = plt.rcParams['axes.prop_cycle'].by_key()['color']\n",
    "# Matplotlib configuration\n",
    "plt.rc('font', size=14)"
   ]
  },
  {
   "cell_type": "code",
   "execution_count": 2,
   "id": "00db59f1",
   "metadata": {},
   "outputs": [],
   "source": [
    "# Set data directory\n",
    "data_dir = Path('data')\n",
    "\n",
    "# Set keyword arguments for pd.read_csv\n",
    "kwargs_read_csv = dict()\n",
    "\n",
    "# Set first and last years\n",
    "FIRST_YEAR = 2014\n",
    "LAST_YEAR = 2021\n",
    "\n",
    "# Define temperature filepath\n",
    "temp_filename = 'surface_temperature_merra2_{}-{}.csv'.format(\n",
    "    FIRST_YEAR, LAST_YEAR)\n",
    "temp_filepath = Path(data_dir, temp_filename)\n",
    "temp_label = 'Temperature (°C)'\n",
    "\n",
    "# Define electricity demand filepath\n",
    "dem_filename = 'reseaux_energies_demand_demand.csv'\n",
    "dem_filepath = Path(data_dir, dem_filename)\n",
    "dem_label = 'Electricity consumption (MWh)'"
   ]
  },
  {
   "cell_type": "markdown",
   "id": "87097463",
   "metadata": {},
   "source": [
    "### Reading and plotting the raw temperature data"
   ]
  },
  {
   "cell_type": "markdown",
   "id": "65bf41ef",
   "metadata": {},
   "source": [
    "> ***Question (code cells below)***\n",
    "> - Use `pd.read_csv` with the filepath and appropriate options to make sure to get the column names and the index as dates (`DatetimeIndex`).\n",
    "> - Use the `resample` method from the data frame to compute daily means.\n",
    "> - Plot the `'Île-de-France'` daily-mean temperature time series for (a) the whole period, (b) one year, (c) one month in winter and (d) one month in summer on 4 different figures (use `plt.figure`) using `plt.plot` or the `plot` method from data frames (preferably).\n",
    "> - Use the `mean` and `var` methods to get mean and variance of the daily-mean temperature."
   ]
  },
  {
   "cell_type": "code",
   "execution_count": 14,
   "id": "706b1be4",
   "metadata": {},
   "outputs": [
    {
     "data": {
      "text/html": [
       "<div>\n",
       "<style scoped>\n",
       "    .dataframe tbody tr th:only-of-type {\n",
       "        vertical-align: middle;\n",
       "    }\n",
       "\n",
       "    .dataframe tbody tr th {\n",
       "        vertical-align: top;\n",
       "    }\n",
       "\n",
       "    .dataframe thead th {\n",
       "        text-align: right;\n",
       "    }\n",
       "</style>\n",
       "<table border=\"1\" class=\"dataframe\">\n",
       "  <thead>\n",
       "    <tr style=\"text-align: right;\">\n",
       "      <th></th>\n",
       "      <th>Grand Est</th>\n",
       "      <th>Nouvelle-Aquitaine</th>\n",
       "      <th>Auvergne-Rhône-Alpes</th>\n",
       "      <th>Bourgogne-Franche-Comté</th>\n",
       "      <th>Bretagne</th>\n",
       "      <th>Centre-Val de Loire</th>\n",
       "      <th>Île-de-France</th>\n",
       "      <th>Occitanie</th>\n",
       "      <th>Hauts-de-France</th>\n",
       "      <th>Normandie</th>\n",
       "      <th>Pays de la Loire</th>\n",
       "      <th>Provence-Alpes-Côte d'Azur</th>\n",
       "    </tr>\n",
       "    <tr>\n",
       "      <th>time</th>\n",
       "      <th></th>\n",
       "      <th></th>\n",
       "      <th></th>\n",
       "      <th></th>\n",
       "      <th></th>\n",
       "      <th></th>\n",
       "      <th></th>\n",
       "      <th></th>\n",
       "      <th></th>\n",
       "      <th></th>\n",
       "      <th></th>\n",
       "      <th></th>\n",
       "    </tr>\n",
       "  </thead>\n",
       "  <tbody>\n",
       "    <tr>\n",
       "      <th>2014-01-01 00:00:00+00:00</th>\n",
       "      <td>2.831726</td>\n",
       "      <td>7.069458</td>\n",
       "      <td>2.800629</td>\n",
       "      <td>3.720520</td>\n",
       "      <td>8.367065</td>\n",
       "      <td>5.591950</td>\n",
       "      <td>5.584137</td>\n",
       "      <td>6.643921</td>\n",
       "      <td>4.568512</td>\n",
       "      <td>3.880218</td>\n",
       "      <td>7.083618</td>\n",
       "      <td>3.379333</td>\n",
       "    </tr>\n",
       "    <tr>\n",
       "      <th>2014-01-01 01:00:00+00:00</th>\n",
       "      <td>2.981445</td>\n",
       "      <td>6.853302</td>\n",
       "      <td>2.692261</td>\n",
       "      <td>3.743195</td>\n",
       "      <td>8.393005</td>\n",
       "      <td>5.230896</td>\n",
       "      <td>5.503662</td>\n",
       "      <td>6.519012</td>\n",
       "      <td>4.261169</td>\n",
       "      <td>3.794159</td>\n",
       "      <td>7.153290</td>\n",
       "      <td>3.383453</td>\n",
       "    </tr>\n",
       "    <tr>\n",
       "      <th>2014-01-01 02:00:00+00:00</th>\n",
       "      <td>3.114227</td>\n",
       "      <td>6.616943</td>\n",
       "      <td>2.624237</td>\n",
       "      <td>3.735352</td>\n",
       "      <td>8.307800</td>\n",
       "      <td>4.896515</td>\n",
       "      <td>5.422058</td>\n",
       "      <td>6.415436</td>\n",
       "      <td>4.033905</td>\n",
       "      <td>3.808685</td>\n",
       "      <td>7.303253</td>\n",
       "      <td>3.354370</td>\n",
       "    </tr>\n",
       "    <tr>\n",
       "      <th>2014-01-01 03:00:00+00:00</th>\n",
       "      <td>3.375610</td>\n",
       "      <td>6.341644</td>\n",
       "      <td>2.648132</td>\n",
       "      <td>3.794952</td>\n",
       "      <td>8.361298</td>\n",
       "      <td>4.676727</td>\n",
       "      <td>5.059296</td>\n",
       "      <td>6.243591</td>\n",
       "      <td>3.912689</td>\n",
       "      <td>3.805939</td>\n",
       "      <td>7.490418</td>\n",
       "      <td>3.326660</td>\n",
       "    </tr>\n",
       "    <tr>\n",
       "      <th>2014-01-01 04:00:00+00:00</th>\n",
       "      <td>3.649963</td>\n",
       "      <td>6.107422</td>\n",
       "      <td>2.684998</td>\n",
       "      <td>3.780426</td>\n",
       "      <td>8.510193</td>\n",
       "      <td>4.642578</td>\n",
       "      <td>4.453552</td>\n",
       "      <td>6.014252</td>\n",
       "      <td>3.946747</td>\n",
       "      <td>3.948578</td>\n",
       "      <td>7.695252</td>\n",
       "      <td>3.321167</td>\n",
       "    </tr>\n",
       "  </tbody>\n",
       "</table>\n",
       "</div>"
      ],
      "text/plain": [
       "                           Grand Est  Nouvelle-Aquitaine  \\\n",
       "time                                                       \n",
       "2014-01-01 00:00:00+00:00   2.831726            7.069458   \n",
       "2014-01-01 01:00:00+00:00   2.981445            6.853302   \n",
       "2014-01-01 02:00:00+00:00   3.114227            6.616943   \n",
       "2014-01-01 03:00:00+00:00   3.375610            6.341644   \n",
       "2014-01-01 04:00:00+00:00   3.649963            6.107422   \n",
       "\n",
       "                           Auvergne-Rhône-Alpes  Bourgogne-Franche-Comté  \\\n",
       "time                                                                       \n",
       "2014-01-01 00:00:00+00:00              2.800629                 3.720520   \n",
       "2014-01-01 01:00:00+00:00              2.692261                 3.743195   \n",
       "2014-01-01 02:00:00+00:00              2.624237                 3.735352   \n",
       "2014-01-01 03:00:00+00:00              2.648132                 3.794952   \n",
       "2014-01-01 04:00:00+00:00              2.684998                 3.780426   \n",
       "\n",
       "                           Bretagne  Centre-Val de Loire  Île-de-France  \\\n",
       "time                                                                      \n",
       "2014-01-01 00:00:00+00:00  8.367065             5.591950       5.584137   \n",
       "2014-01-01 01:00:00+00:00  8.393005             5.230896       5.503662   \n",
       "2014-01-01 02:00:00+00:00  8.307800             4.896515       5.422058   \n",
       "2014-01-01 03:00:00+00:00  8.361298             4.676727       5.059296   \n",
       "2014-01-01 04:00:00+00:00  8.510193             4.642578       4.453552   \n",
       "\n",
       "                           Occitanie  Hauts-de-France  Normandie  \\\n",
       "time                                                               \n",
       "2014-01-01 00:00:00+00:00   6.643921         4.568512   3.880218   \n",
       "2014-01-01 01:00:00+00:00   6.519012         4.261169   3.794159   \n",
       "2014-01-01 02:00:00+00:00   6.415436         4.033905   3.808685   \n",
       "2014-01-01 03:00:00+00:00   6.243591         3.912689   3.805939   \n",
       "2014-01-01 04:00:00+00:00   6.014252         3.946747   3.948578   \n",
       "\n",
       "                           Pays de la Loire  Provence-Alpes-Côte d'Azur  \n",
       "time                                                                     \n",
       "2014-01-01 00:00:00+00:00          7.083618                    3.379333  \n",
       "2014-01-01 01:00:00+00:00          7.153290                    3.383453  \n",
       "2014-01-01 02:00:00+00:00          7.303253                    3.354370  \n",
       "2014-01-01 03:00:00+00:00          7.490418                    3.326660  \n",
       "2014-01-01 04:00:00+00:00          7.695252                    3.321167  "
      ]
     },
     "execution_count": 14,
     "metadata": {},
     "output_type": "execute_result"
    }
   ],
   "source": [
    "# answer cell\n",
    "df_temp = pd.read_csv(temp_filepath, parse_dates=True, index_col=0, header=0)\n",
    "df_temp_IF_day=df_temp['Île-de-France'].resample('D').mean()\n",
    "df_temp_IF_day_var=df_temp['Île-de-France'].resample('D').var() \n",
    "df_temp.head()\n"
   ]
  },
  {
   "cell_type": "code",
   "execution_count": 15,
   "id": "7c3393d6",
   "metadata": {},
   "outputs": [
    {
     "data": {
      "text/plain": [
       "<AxesSubplot:title={'center':'Daily average temperature in Île-de-France (2014-2021)'}, xlabel='time', ylabel='Temperature (°C)'>"
      ]
     },
     "execution_count": 15,
     "metadata": {},
     "output_type": "execute_result"
    },
    {
     "data": {
      "image/png": "[encoded data removed]",
      "text/plain": [
       "<Figure size 432x288 with 1 Axes>"
      ]
     },
     "metadata": {
      "needs_background": "light"
     },
     "output_type": "display_data"
    }
   ],
   "source": [
    "df_temp_IF_day.plot(yerr=df_temp_IF_day_var, title='Daily average temperature in Île-de-France (2014-2021)', ylabel=temp_label)"
   ]
  },
  {
   "cell_type": "code",
   "execution_count": 18,
   "id": "f7b6e90d",
   "metadata": {},
   "outputs": [
    {
     "data": {
      "text/plain": [
       "<AxesSubplot:title={'center':'Daily average temperature in Île-de-France (2014-2021)'}, xlabel='time', ylabel='Temperature (°C)'>"
      ]
     },
     "execution_count": 18,
     "metadata": {},
     "output_type": "execute_result"
    },
    {
     "data": {
      "image/png": "[encoded data removed]",
      "text/plain": [
       "<Figure size 432x288 with 1 Axes>"
      ]
     },
     "metadata": {
      "needs_background": "light"
     },
     "output_type": "display_data"
    }
   ],
   "source": [
    "df_temp_IF_day['2020'].plot( title='Daily average temperature in Île-de-France (2014-2021)', ylabel=temp_label)"
   ]
  },
  {
   "cell_type": "code",
   "execution_count": null,
   "id": "2f55070a",
   "metadata": {},
   "outputs": [],
   "source": [
    "df_temp_IF_day.plot(yerr=df_temp_IF_day_var, title='Daily average temperature in Île-de-France (2014-2021)', ylabel=temp_label)"
   ]
  },
  {
   "cell_type": "markdown",
   "id": "c19747cc",
   "metadata": {},
   "source": [
    "### Reading and plotting the demand data"
   ]
  },
  {
   "cell_type": "markdown",
   "id": "5b376b53",
   "metadata": {},
   "source": [
    "> ***Question***\n",
    "> - Same question for the demand but with daily sums instead of daily means"
   ]
  },
  {
   "cell_type": "code",
   "execution_count": 19,
   "id": "571cbb34",
   "metadata": {},
   "outputs": [
    {
     "data": {
      "text/html": [
       "<div>\n",
       "<style scoped>\n",
       "    .dataframe tbody tr th:only-of-type {\n",
       "        vertical-align: middle;\n",
       "    }\n",
       "\n",
       "    .dataframe tbody tr th {\n",
       "        vertical-align: top;\n",
       "    }\n",
       "\n",
       "    .dataframe thead th {\n",
       "        text-align: right;\n",
       "    }\n",
       "</style>\n",
       "<table border=\"1\" class=\"dataframe\">\n",
       "  <thead>\n",
       "    <tr style=\"text-align: right;\">\n",
       "      <th></th>\n",
       "      <th>Auvergne-Rhône-Alpes</th>\n",
       "      <th>Bourgogne-Franche-Comté</th>\n",
       "      <th>Bretagne</th>\n",
       "      <th>Centre-Val de Loire</th>\n",
       "      <th>Grand Est</th>\n",
       "      <th>Hauts-de-France</th>\n",
       "      <th>Île-de-France</th>\n",
       "      <th>Normandie</th>\n",
       "      <th>Nouvelle-Aquitaine</th>\n",
       "      <th>Occitanie</th>\n",
       "      <th>Pays de la Loire</th>\n",
       "      <th>Provence-Alpes-Côte d'Azur</th>\n",
       "    </tr>\n",
       "    <tr>\n",
       "      <th>time</th>\n",
       "      <th></th>\n",
       "      <th></th>\n",
       "      <th></th>\n",
       "      <th></th>\n",
       "      <th></th>\n",
       "      <th></th>\n",
       "      <th></th>\n",
       "      <th></th>\n",
       "      <th></th>\n",
       "      <th></th>\n",
       "      <th></th>\n",
       "      <th></th>\n",
       "    </tr>\n",
       "  </thead>\n",
       "  <tbody>\n",
       "    <tr>\n",
       "      <th>2014-01-01 00:00:00+00:00</th>\n",
       "      <td>16504</td>\n",
       "      <td>4877</td>\n",
       "      <td>6085</td>\n",
       "      <td>5006</td>\n",
       "      <td>10282</td>\n",
       "      <td>12423</td>\n",
       "      <td>18051</td>\n",
       "      <td>7217</td>\n",
       "      <td>11777</td>\n",
       "      <td>10845</td>\n",
       "      <td>7368</td>\n",
       "      <td>12147</td>\n",
       "    </tr>\n",
       "    <tr>\n",
       "      <th>2014-01-01 01:00:00+00:00</th>\n",
       "      <td>16471</td>\n",
       "      <td>5068</td>\n",
       "      <td>6228</td>\n",
       "      <td>4900</td>\n",
       "      <td>10401</td>\n",
       "      <td>12035</td>\n",
       "      <td>17179</td>\n",
       "      <td>7130</td>\n",
       "      <td>11703</td>\n",
       "      <td>10569</td>\n",
       "      <td>7294</td>\n",
       "      <td>12019</td>\n",
       "    </tr>\n",
       "    <tr>\n",
       "      <th>2014-01-01 02:00:00+00:00</th>\n",
       "      <td>15968</td>\n",
       "      <td>4887</td>\n",
       "      <td>5591</td>\n",
       "      <td>4709</td>\n",
       "      <td>9899</td>\n",
       "      <td>11364</td>\n",
       "      <td>16365</td>\n",
       "      <td>6661</td>\n",
       "      <td>10954</td>\n",
       "      <td>9899</td>\n",
       "      <td>6556</td>\n",
       "      <td>11452</td>\n",
       "    </tr>\n",
       "    <tr>\n",
       "      <th>2014-01-01 03:00:00+00:00</th>\n",
       "      <td>15162</td>\n",
       "      <td>4580</td>\n",
       "      <td>5157</td>\n",
       "      <td>4306</td>\n",
       "      <td>9375</td>\n",
       "      <td>10839</td>\n",
       "      <td>15703</td>\n",
       "      <td>6233</td>\n",
       "      <td>10121</td>\n",
       "      <td>9451</td>\n",
       "      <td>6155</td>\n",
       "      <td>10818</td>\n",
       "    </tr>\n",
       "    <tr>\n",
       "      <th>2014-01-01 04:00:00+00:00</th>\n",
       "      <td>14851</td>\n",
       "      <td>4399</td>\n",
       "      <td>5001</td>\n",
       "      <td>4299</td>\n",
       "      <td>9025</td>\n",
       "      <td>10636</td>\n",
       "      <td>15549</td>\n",
       "      <td>6113</td>\n",
       "      <td>9674</td>\n",
       "      <td>8960</td>\n",
       "      <td>6048</td>\n",
       "      <td>10538</td>\n",
       "    </tr>\n",
       "  </tbody>\n",
       "</table>\n",
       "</div>"
      ],
      "text/plain": [
       "                           Auvergne-Rhône-Alpes  Bourgogne-Franche-Comté  \\\n",
       "time                                                                       \n",
       "2014-01-01 00:00:00+00:00                 16504                     4877   \n",
       "2014-01-01 01:00:00+00:00                 16471                     5068   \n",
       "2014-01-01 02:00:00+00:00                 15968                     4887   \n",
       "2014-01-01 03:00:00+00:00                 15162                     4580   \n",
       "2014-01-01 04:00:00+00:00                 14851                     4399   \n",
       "\n",
       "                           Bretagne  Centre-Val de Loire  Grand Est  \\\n",
       "time                                                                  \n",
       "2014-01-01 00:00:00+00:00      6085                 5006      10282   \n",
       "2014-01-01 01:00:00+00:00      6228                 4900      10401   \n",
       "2014-01-01 02:00:00+00:00      5591                 4709       9899   \n",
       "2014-01-01 03:00:00+00:00      5157                 4306       9375   \n",
       "2014-01-01 04:00:00+00:00      5001                 4299       9025   \n",
       "\n",
       "                           Hauts-de-France  Île-de-France  Normandie  \\\n",
       "time                                                                   \n",
       "2014-01-01 00:00:00+00:00            12423          18051       7217   \n",
       "2014-01-01 01:00:00+00:00            12035          17179       7130   \n",
       "2014-01-01 02:00:00+00:00            11364          16365       6661   \n",
       "2014-01-01 03:00:00+00:00            10839          15703       6233   \n",
       "2014-01-01 04:00:00+00:00            10636          15549       6113   \n",
       "\n",
       "                           Nouvelle-Aquitaine  Occitanie  Pays de la Loire  \\\n",
       "time                                                                         \n",
       "2014-01-01 00:00:00+00:00               11777      10845              7368   \n",
       "2014-01-01 01:00:00+00:00               11703      10569              7294   \n",
       "2014-01-01 02:00:00+00:00               10954       9899              6556   \n",
       "2014-01-01 03:00:00+00:00               10121       9451              6155   \n",
       "2014-01-01 04:00:00+00:00                9674       8960              6048   \n",
       "\n",
       "                           Provence-Alpes-Côte d'Azur  \n",
       "time                                                   \n",
       "2014-01-01 00:00:00+00:00                       12147  \n",
       "2014-01-01 01:00:00+00:00                       12019  \n",
       "2014-01-01 02:00:00+00:00                       11452  \n",
       "2014-01-01 03:00:00+00:00                       10818  \n",
       "2014-01-01 04:00:00+00:00                       10538  "
      ]
     },
     "execution_count": 19,
     "metadata": {},
     "output_type": "execute_result"
    }
   ],
   "source": [
    "df_dem = pd.read_csv(dem_filepath, parse_dates=True, index_col=0, header=0)\n",
    "df_dem_IF_day=df_temp['Île-de-France'].resample('D').sum()\n",
    "df_dem.head()\n",
    "\n"
   ]
  },
  {
   "cell_type": "code",
   "execution_count": null,
   "id": "9d46927e",
   "metadata": {},
   "outputs": [],
   "source": [
    " "
   ]
  },
  {
   "cell_type": "markdown",
   "id": "6a5f17ce",
   "metadata": {},
   "source": [
    "### Analyzing the input and target data and their relationships"
   ]
  },
  {
   "cell_type": "markdown",
   "id": "555ff7b5",
   "metadata": {},
   "source": [
    "> ***Question (write your answer in text box below)***\n",
    "> - Describe the seasonality of the temperature in Île-de-France.\n",
    "> - Are all years the same?\n",
    "> - Describe the seasonal and weakly demand patterns."
   ]
  },
  {
   "cell_type": "markdown",
   "id": "9b6e901c",
   "metadata": {},
   "source": [
    "Answer:"
   ]
  },
  {
   "cell_type": "markdown",
   "id": "36516633",
   "metadata": {},
   "source": [
    "> ***Question***\n",
    "> - Select the temperature and demand data for their largest common period using the `intersection` method of the `index` attribute of the data frames.\n",
    "> - Represent a scatter plot of the daily demand versus the daily temperature using `plt.scatter`."
   ]
  },
  {
   "cell_type": "code",
   "execution_count": 5,
   "id": "7ddccc23",
   "metadata": {},
   "outputs": [],
   "source": [
    "# answer cell\n"
   ]
  },
  {
   "cell_type": "markdown",
   "id": "35edda21",
   "metadata": {},
   "source": [
    "> ***Question***\n",
    "> - Compute the correlation between the daily temperature and the daily demand in Île-de-France using `np.corrcoef`.\n",
    "> - Compute the correlation between the monthly temperature and the monthly demand using the `resample` method.\n",
    "> - What do you think explains the difference between the daily and the monthly correlation?"
   ]
  },
  {
   "cell_type": "code",
   "execution_count": 6,
   "id": "0a0f6f9d",
   "metadata": {},
   "outputs": [],
   "source": [
    "# answer cell\n"
   ]
  },
  {
   "cell_type": "markdown",
   "id": "460e3bf4-b1f2-4d0d-b34b-44753ebd6029",
   "metadata": {},
   "source": [
    "Answer:"
   ]
  },
  {
   "cell_type": "markdown",
   "id": "38ff4637",
   "metadata": {},
   "source": [
    "## Ordinary Least Squares"
   ]
  },
  {
   "cell_type": "markdown",
   "id": "17781be6",
   "metadata": {},
   "source": [
    "> ***Question***\n",
    "> - Perform an OLS with intercept using the entire dataset from the temperature using the formula for the optimal coefficients derived in [Supervised Learning Problem and Least Squares](2_supervised_learning_problem_ols.ipynb) (without Scikit-Learn). To do so:\n",
    ">   - Prepare the input matrix and output vector with the `np.concatenate` function (for instance);\n",
    ">   - Use the matrix-multiplication operator seen in [Introduction](1_introduction.ipynb) and the `np.linalg.inv` function to compute the optimal coefficients and print them.\n",
    "> - Use the estimated coefficents to predict the target from the input train data.\n",
    "> - Overlay your prediction to the scatter plot of the train data.\n",
    "> - Compute the train Mean Squared Error (MSE) and the train coefficient of determination ($R^2$) and print them."
   ]
  },
  {
   "cell_type": "code",
   "execution_count": 7,
   "id": "cde14e85",
   "metadata": {},
   "outputs": [],
   "source": [
    "# answer cell\n"
   ]
  },
  {
   "cell_type": "markdown",
   "id": "499b3fb1",
   "metadata": {},
   "source": [
    "> ***Question***\n",
    "> - Compute the optimal coefficients using centered input temperatures.\n",
    "> - Compute the optimal intercept alone using a single-column input matrix.\n",
    "> - Compare the resulting two estimations of the intercept with the sample mean of the target train data."
   ]
  },
  {
   "cell_type": "code",
   "execution_count": 8,
   "id": "4bf783c5",
   "metadata": {},
   "outputs": [],
   "source": [
    "# answer cell\n"
   ]
  },
  {
   "cell_type": "markdown",
   "id": "af1100d4",
   "metadata": {},
   "source": [
    "> ***Question***\n",
    "> - Perform an OLS fit with intercept using the entire dataset to predict the demand from the temperature using Scikit-learn. To do so:\n",
    ">   - Import the `linear_model` module from `sklearn` (Scikit-Learn)\n",
    ">   - Define a regressor using `linear_model.LinearRegression` (by default, the regressor is configured to fit an intercept in addition to the features, see `fit_intercept` option)\n",
    ">   - Prepare the input matrix and output vector for the `fit` method of the regressor\n",
    ">   - Apply the `fit` method to the input and output\n",
    "> - Print the fitted coefficients using the `coef_` attribute of the regressor.\n",
    "> - Compute the train $R^2$ coefficient using the `score` method of the regressor.\n",
    "> - Compare the resulting coefficients and score to those obtained above by applying the formulas yourself."
   ]
  },
  {
   "cell_type": "code",
   "execution_count": 9,
   "id": "a7149924",
   "metadata": {
    "code_folding": []
   },
   "outputs": [],
   "source": [
    "# answer cell\n"
   ]
  },
  {
   "cell_type": "markdown",
   "id": "a9159306",
   "metadata": {},
   "source": [
    "Answer: "
   ]
  },
  {
   "cell_type": "markdown",
   "id": "59513617",
   "metadata": {},
   "source": [
    "> ***Question***\n",
    "> - Define and array of 100 temperatures ranging from -5 to 35°C with `np.linspace`.\n",
    "> - Make a prediction of the demand for these temperatures using the trained OLS model with the `predict` method of the regressor.\n",
    "> - Plot this prediction over the scatter plot of the train data.\n",
    "> - Does the demand prediction seem satisfactory over the whole range of temperatures?"
   ]
  },
  {
   "cell_type": "code",
   "execution_count": 10,
   "id": "5d27a60c",
   "metadata": {},
   "outputs": [],
   "source": [
    "# answer cell\n"
   ]
  },
  {
   "cell_type": "markdown",
   "id": "7fe141ec",
   "metadata": {},
   "source": [
    "Answer:"
   ]
  },
  {
   "cell_type": "markdown",
   "id": "fab5ec4a",
   "metadata": {},
   "source": [
    "***\n",
    "## Credit\n",
    "\n",
    "[//]: # \"This notebook is part of [E4C Interdisciplinary Center - Education](https://gitlab.in2p3.fr/energy4climate/public/education).\"\n",
    "Contributors include Bruno Deremble and Alexis Tantet.\n",
    "Several slides and images are taken from the very good [Scikit-learn course](https://inria.github.io/scikit-learn-mooc/).\n",
    "\n",
    "<br>\n",
    "\n",
    "<div style=\"display: flex; height: 70px\">\n",
    "    \n",
    "<img alt=\"Logo LMD\" src=\"images/logos/logo_lmd.jpg\" style=\"display: inline-block\"/>\n",
    "\n",
    "<img alt=\"Logo IPSL\" src=\"images/logos/logo_ipsl.png\" style=\"display: inline-block\"/>\n",
    "\n",
    "<img alt=\"Logo E4C\" src=\"images/logos/logo_e4c_final.png\" style=\"display: inline-block\"/>\n",
    "\n",
    "<img alt=\"Logo EP\" src=\"images/logos/logo_ep.png\" style=\"display: inline-block\"/>\n",
    "\n",
    "<img alt=\"Logo SU\" src=\"images/logos/logo_su.png\" style=\"display: inline-block\"/>\n",
    "\n",
    "<img alt=\"Logo ENS\" src=\"images/logos/logo_ens.jpg\" style=\"display: inline-block\"/>\n",
    "\n",
    "<img alt=\"Logo CNRS\" src=\"images/logos/logo_cnrs.png\" style=\"display: inline-block\"/>\n",
    "    \n",
    "</div>\n",
    "\n",
    "<hr>\n",
    "\n",
    "<div style=\"display: flex\">\n",
    "    <a rel=\"license\" href=\"http://creativecommons.org/licenses/by-sa/4.0/\"><img alt=\"Creative Commons License\" style=\"border-width:0; margin-right: 10px\" src=\"https://i.creativecommons.org/l/by-sa/4.0/88x31.png\" /></a>\n",
    "    <br>This work is licensed under a &nbsp; <a rel=\"license\" href=\"http://creativecommons.org/licenses/by-sa/4.0/\">Creative Commons Attribution-ShareAlike 4.0 International License</a>.\n",
    "</div>"
   ]
  }
 ],
 "metadata": {
  "kernelspec": {
   "display_name": "Python 3",
   "language": "python",
   "name": "python3"
  },
  "language_info": {
   "codemirror_mode": {
    "name": "ipython",
    "version": 3
   },
   "file_extension": ".py",
   "mimetype": "text/x-python",
   "name": "python",
   "nbconvert_exporter": "python",
   "pygments_lexer": "ipython3",
   "version": "3.10.2"
  },
  "latex_envs": {
   "LaTeX_envs_menu_present": true,
   "autoclose": true,
   "autocomplete": false,
   "bibliofile": "biblio.bib",
   "cite_by": "apalike",
   "current_citInitial": 1,
   "eqLabelWithNumbers": true,
   "eqNumInitial": 1,
   "hotkeys": {
    "equation": "Ctrl-E",
    "itemize": "Ctrl-I"
   },
   "labels_anchors": false,
   "latex_user_defs": false,
   "report_style_numbering": false,
   "user_envs_cfg": false
  },
  "toc": {
   "base_numbering": 1,
   "nav_menu": {},
   "number_sections": true,
   "sideBar": true,
   "skip_h1_title": false,
   "title_cell": "Table of Contents",
   "title_sidebar": "Contents",
   "toc_cell": false,
   "toc_position": {},
   "toc_section_display": true,
   "toc_window_display": false
  },
  "varInspector": {
   "cols": {
    "lenName": 16,
    "lenType": 16,
    "lenVar": 40
   },
   "kernels_config": {
    "python": {
     "delete_cmd_postfix": "",
     "delete_cmd_prefix": "del ",
     "library": "var_list.py",
     "varRefreshCmd": "print(var_dic_list())"
    },
    "r": {
     "delete_cmd_postfix": ") ",
     "delete_cmd_prefix": "rm(",
     "library": "var_list.r",
     "varRefreshCmd": "cat(var_dic_list()) "
    }
   },
   "types_to_exclude": [
    "module",
    "function",
    "builtin_function_or_method",
    "instance",
    "_Feature"
   ],
   "window_display": false
  }
 },
 "nbformat": 4,
 "nbformat_minor": 5
}
